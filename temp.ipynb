{
 "cells": [
  {
   "cell_type": "code",
   "execution_count": null,
   "metadata": {},
   "outputs": [],
   "source": [
    "import pandas as pd\n",
    "import pickle"
   ]
  },
  {
   "cell_type": "code",
   "execution_count": null,
   "metadata": {},
   "outputs": [],
   "source": [
    "YEARS = ['2021', '2022']\n",
    "MONTHS = ['01', '02', '03', '04', '05', '06', '07', '08', '09', '10', '11', '12']"
   ]
  },
  {
   "cell_type": "code",
   "execution_count": null,
   "metadata": {},
   "outputs": [],
   "source": [
    "input_all = pd.read_csv('./data/input.csv')\n",
    "sample_data = pd.read_csv('./data/sample.csv')"
   ]
  },
  {
   "cell_type": "code",
   "execution_count": null,
   "metadata": {},
   "outputs": [],
   "source": [
    "def cleanup(df : pd.DataFrame) -> pd.DataFrame:\n",
    "    \"\"\"Removes columns that are not needed\"\"\"\n",
    "    df = df.drop('converted amount', axis=1)\n",
    "    df = df.drop('currency.1', axis=1)\n",
    "    df = df.drop('currency', axis=1)\n",
    "    df = df.drop('account', axis=1)\n",
    "    df = df.rename(columns={\"description\": \"temp\"})\n",
    "    df[[\"subcategory\", \"description\"]] = df[\"temp\"].str.split(\"::\", 1, expand=True)\n",
    "    df = df.drop(\"temp\", axis=1)\n",
    "    df[\"amount\"] = pd.to_numeric(df[\"amount\"].str.replace(\",\", \"\"))\n",
    "    df[\"date\"] = pd.to_datetime(df[\"date\"], format=\"%d/%m/%Y\")\n",
    "    return df"
   ]
  },
  {
   "cell_type": "code",
   "execution_count": null,
   "metadata": {},
   "outputs": [],
   "source": [
    "def split_dataframes(df: pd.DataFrame) -> dict:\n",
    "    \"\"\"Splits dataframe into monthly dataframes\"\"\"\n",
    "    dfs =  {}\n",
    "    for y in YEARS:\n",
    "        dfs[y] = {} \n",
    "        for m in MONTHS:\n",
    "            mon = []\n",
    "            for _, row in df.iterrows():\n",
    "                if f\"{y}-{m}\" in str(row[\"date\"]):\n",
    "                    mon.append(dict(row))\n",
    "            if len(mon):\n",
    "                dfs[y][m] = pd.DataFrame(mon)\n",
    "    return dfs"
   ]
  },
  {
   "cell_type": "code",
   "execution_count": null,
   "metadata": {},
   "outputs": [],
   "source": [
    "def save_dataframes(dfs : dict) -> None:\n",
    "    \"\"\"Saves the dataframes as pickles and CSVs.\"\"\"\n",
    "    for y in dfs.keys():\n",
    "        for m in dfs[y].keys():\n",
    "            dfs[y][m].to_csv(f'data/backup/{y}_{m}.csv')\n",
    "    \n",
    "    with open('data/internal.pkl', 'wb') as handle:\n",
    "        pickle.dump(dfs, handle, protocol=pickle.HIGHEST_PROTOCOL)"
   ]
  },
  {
   "cell_type": "code",
   "execution_count": null,
   "metadata": {},
   "outputs": [],
   "source": [
    "def print_dataframe(month : str, year : str) -> pd.DataFrame:\n",
    "    return dfs[year][month]"
   ]
  },
  {
   "cell_type": "code",
   "execution_count": null,
   "metadata": {},
   "outputs": [],
   "source": [
    "sample_data"
   ]
  },
  {
   "cell_type": "code",
   "execution_count": null,
   "metadata": {},
   "outputs": [],
   "source": [
    "df = cleanup(sample_data)"
   ]
  },
  {
   "cell_type": "code",
   "execution_count": null,
   "metadata": {},
   "outputs": [],
   "source": [
    "df"
   ]
  },
  {
   "cell_type": "code",
   "execution_count": null,
   "metadata": {},
   "outputs": [],
   "source": [
    "df = split_dataframes(df)"
   ]
  },
  {
   "cell_type": "code",
   "execution_count": null,
   "metadata": {},
   "outputs": [],
   "source": [
    "df['2021']['11']"
   ]
  },
  {
   "cell_type": "code",
   "execution_count": null,
   "metadata": {},
   "outputs": [],
   "source": []
  }
 ],
 "metadata": {
  "kernelspec": {
   "display_name": "Python 3",
   "language": "python",
   "name": "python3"
  },
  "language_info": {
   "codemirror_mode": {
    "name": "ipython",
    "version": 3
   },
   "file_extension": ".py",
   "mimetype": "text/x-python",
   "name": "python",
   "nbconvert_exporter": "python",
   "pygments_lexer": "ipython3",
   "version": "3.9.12 (main, Jun  1 2022, 11:38:51) \n[GCC 7.5.0]"
  },
  "orig_nbformat": 4,
  "vscode": {
   "interpreter": {
    "hash": "a8bd672deee3f90823c6deb0aed6e97470c2bc3d23777cda4001fa1b2ba4f1c8"
   }
  }
 },
 "nbformat": 4,
 "nbformat_minor": 2
}
